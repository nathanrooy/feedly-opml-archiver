{
 "cells": [
  {
   "cell_type": "code",
   "execution_count": null,
   "id": "af2886ab-05ca-4610-91b3-d7b19ab5921f",
   "metadata": {},
   "outputs": [],
   "source": [
    "from time import sleep\n",
    "from os import environ\n",
    "\n",
    "from requests import get\n",
    "from selenium.webdriver.common.by import By\n",
    "from selenium.webdriver.support.ui import WebDriverWait\n",
    "from selenium.webdriver.support import expected_conditions as EC\n",
    "from seleniumbase import Driver"
   ]
  },
  {
   "cell_type": "code",
   "execution_count": null,
   "id": "f99066a2-a64e-4554-b0d7-4800d7d187af",
   "metadata": {},
   "outputs": [],
   "source": [
    "DEFAULT_SLEEP = 5"
   ]
  },
  {
   "cell_type": "code",
   "execution_count": null,
   "id": "c61f7db3-ba4e-4805-90e1-4d2bd7d3fafd",
   "metadata": {},
   "outputs": [],
   "source": [
    "driver = Driver(uc=True, headless=False)\n",
    "driver.get('https://feedly.com/i/back?gate=%2Fhomepage')\n",
    "login_xpath = '//*[@id=\"primaryButtons\"]/a[2]'\n",
    "login_url = driver.find_element(By.XPATH, login_xpath)\n",
    "sleep(DEFAULT_SLEEP)"
   ]
  },
  {
   "cell_type": "code",
   "execution_count": null,
   "id": "94e9ea2c-e54e-4a4a-b4d1-87cb26fafda1",
   "metadata": {},
   "outputs": [],
   "source": [
    "driver.get(login_url.get_attribute('href'))\n",
    "sleep(DEFAULT_SLEEP)"
   ]
  },
  {
   "cell_type": "code",
   "execution_count": null,
   "id": "438e1064-c5a9-471b-9f9c-738e50026136",
   "metadata": {},
   "outputs": [],
   "source": [
    "email_xpath = '/html/body/div/div[2]/form/div[1]/input'\n",
    "email_field = WebDriverWait(driver, 30).until(\n",
    "    EC.presence_of_element_located((By.XPATH, email_xpath))\n",
    ")\n",
    "email_field.send_keys(environ.get(\"FEEDLY_EMAIL\"))\n",
    "sleep(DEFAULT_SLEEP)"
   ]
  },
  {
   "cell_type": "code",
   "execution_count": null,
   "id": "0b66c96e-389c-4cac-83f5-9dc6526090a1",
   "metadata": {},
   "outputs": [],
   "source": [
    "driver.uc_gui_click_captcha()"
   ]
  },
  {
   "cell_type": "code",
   "execution_count": null,
   "id": "95b65de6-4c03-4117-89c3-f6943772b4e9",
   "metadata": {},
   "outputs": [],
   "source": [
    "submit_xpath = '/html/body/div/div[2]/form/input[2]'\n",
    "submit_button = WebDriverWait(driver, 30).until(\n",
    "    EC.presence_of_element_located((By.XPATH, submit_xpath))\n",
    ")\n",
    "submit_button.click()\n",
    "sleep(DEFAULT_SLEEP)"
   ]
  },
  {
   "cell_type": "code",
   "execution_count": null,
   "id": "1486a231-b2b2-4fce-8048-72c25982e852",
   "metadata": {},
   "outputs": [],
   "source": [
    "driver.uc_gui_click_captcha()"
   ]
  },
  {
   "cell_type": "code",
   "execution_count": null,
   "id": "ec9252fb-d27e-4c3c-ac36-8f20ef2bf440",
   "metadata": {},
   "outputs": [],
   "source": [
    "pswd_xpath = '/html/body/div/div[2]/form/div[2]/input'\n",
    "pswd_field = WebDriverWait(driver, 30).until(\n",
    "    EC.presence_of_element_located((By.XPATH, pswd_xpath))\n",
    ")\n",
    "pswd_field.send_keys(environ.get(\"FEEDLY_PSWD\"))\n",
    "sleep(DEFAULT_SLEEP)"
   ]
  },
  {
   "cell_type": "code",
   "execution_count": null,
   "id": "353afb7b-03d5-4f4e-9144-686f311531bc",
   "metadata": {},
   "outputs": [],
   "source": [
    "submit_xpath = '/html/body/div/div[2]/form/input[2]'\n",
    "submit_button = WebDriverWait(driver, 30).until(\n",
    "    EC.presence_of_element_located((By.XPATH, '/html/body/div/div[2]/form/input[2]'))\n",
    ")\n",
    "submit_button.click()\n",
    "sleep(DEFAULT_SLEEP)"
   ]
  },
  {
   "cell_type": "code",
   "execution_count": null,
   "id": "efbcc8ec-769e-4990-ad2a-b097205e9613",
   "metadata": {},
   "outputs": [],
   "source": [
    "driver.get('https://feedly.com/i/opml')\n",
    "opml_xpath  = '/html/body/div/div[1]/div[2]/div[3]/div[2]/main/div[2]/div[1]/div/div/a'\n",
    "opml_url = WebDriverWait(driver, 30).until(\n",
    "    EC.presence_of_element_located((By.XPATH, opml_xpath))\n",
    ")"
   ]
  },
  {
   "cell_type": "code",
   "execution_count": null,
   "id": "08b4c17c-6f08-4784-8e4a-1e7e4b0d03c5",
   "metadata": {},
   "outputs": [],
   "source": [
    "response = get(opml_url.get_attribute('href'), stream=True)\n",
    "with open('feedly.opml', 'wb') as file:\n",
    "    for chunk in response.iter_content(chunk_size=8192):\n",
    "        if chunk:\n",
    "            file.write(chunk)"
   ]
  },
  {
   "cell_type": "code",
   "execution_count": null,
   "id": "0056fbb1-76cf-4bda-93eb-f28fe7dd3a5f",
   "metadata": {},
   "outputs": [],
   "source": [
    "driver.close()"
   ]
  }
 ],
 "metadata": {
  "kernelspec": {
   "display_name": "Python 3 (ipykernel)",
   "language": "python",
   "name": "python3"
  },
  "language_info": {
   "codemirror_mode": {
    "name": "ipython",
    "version": 3
   },
   "file_extension": ".py",
   "mimetype": "text/x-python",
   "name": "python",
   "nbconvert_exporter": "python",
   "pygments_lexer": "ipython3",
   "version": "3.13.2"
  }
 },
 "nbformat": 4,
 "nbformat_minor": 5
}
